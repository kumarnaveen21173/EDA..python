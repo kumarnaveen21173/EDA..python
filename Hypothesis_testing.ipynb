{
  "cells": [
    {
      "cell_type": "code",
      "execution_count": null,
      "metadata": {
        "colab": {},
        "colab_type": "code",
        "id": "mIdfXTIIeoaJ"
      },
      "outputs": [],
      "source": [
        "n = 4500\n",
        "pnull= 0.48\n",
        "phat = 0.65"
      ]
    },
    {
      "cell_type": "code",
      "execution_count": null,
      "metadata": {
        "colab": {},
        "colab_type": "code",
        "id": "niS8pgXQo4Bh"
      },
      "outputs": [],
      "source": [
        "import statsmodels.api as sm\n",
        "import numpy as np\n",
        "import matplotlib.pyplot as plt\n",
        "import pandas as pd"
      ]
    },
    {
      "cell_type": "code",
      "execution_count": null,
      "metadata": {
        "colab": {
          "base_uri": "https://localhost:8080/",
          "height": 34
        },
        "colab_type": "code",
        "id": "JMPF7o4yo5zi",
        "outputId": "28c418a1-0ae2-4fa6-96f7-61bde9c50b27"
      },
      "outputs": [],
      "source": [
        "sm.stats.proportions_ztest(phat * n, n, pnull, alternative='larger')"
      ]
    },
    {
      "cell_type": "code",
      "execution_count": null,
      "metadata": {
        "colab": {
          "base_uri": "https://localhost:8080/",
          "height": 34
        },
        "colab_type": "code",
        "id": "LPBvaBk7r6FG",
        "outputId": "d1ab53db-bf13-4147-f2d0-7b3e8935a20e"
      },
      "outputs": [],
      "source": [
        "import numpy as np\n",
        "\n",
        "sdata = np.random.randint(200, 250, 89)\n",
        "sm.stats.ztest(sdata, value = 80, alternative = \"larger\")"
      ]
    },
    {
      "cell_type": "code",
      "execution_count": null,
      "metadata": {
        "colab": {
          "base_uri": "https://localhost:8080/",
          "height": 34
        },
        "colab_type": "code",
        "id": "2Mw7RNKTzc41",
        "outputId": "c3a32cb0-1d6e-4e40-f05a-92f04919c2b5"
      },
      "outputs": [],
      "source": [
        "sm.stats.ztest(sdata, value = 80, alternative = \"larger\")"
      ]
    },
    {
      "cell_type": "code",
      "execution_count": null,
      "metadata": {
        "colab": {
          "base_uri": "https://localhost:8080/",
          "height": 102
        },
        "colab_type": "code",
        "id": "sNUM1QA3nT6o",
        "outputId": "7650e187-c338-4d41-d18e-bd8990b913e5"
      },
      "outputs": [],
      "source": [
        "height = np.array([172, 184, 174, 168, 174, 183, 173, 173, 184, 179, 171, 173, 181, 183, 172, 178, 170, 182, 181, 172, 175, 170, 168, 178, 170, 181, 180, 173, 183, 180, 177, 181, 171, 173, 171, 182, 180, 170, 172, 175, 178, 174, 184, 177, 181, 180, 178, 179, 175, 170, 182, 176, 183, 179, 177])\n",
        "height"
      ]
    },
    {
      "cell_type": "code",
      "execution_count": null,
      "metadata": {
        "colab": {
          "base_uri": "https://localhost:8080/",
          "height": 68
        },
        "colab_type": "code",
        "id": "py3Tg4B3nlkP",
        "outputId": "a1329f07-e2f7-429d-834a-b117d6b5e0bf"
      },
      "outputs": [],
      "source": [
        "from scipy.stats import ttest_1samp\n",
        "import numpy as np\n",
        "\n",
        "\n",
        "height_average = np.mean(height)\n",
        "print(\"Average height is = {0:.3f}\".format(height_average))\n",
        "\n",
        "tset,pval = ttest_1samp(height, 175)\n",
        "\n",
        "print(\"P-value = {}\".format(pval))\n",
        "\n",
        "if pval < 0.05:\n",
        "  print(\"We are rejecting the null Hypotheis.\")\n",
        "else:\n",
        "  print(\"We are accepting the null hypothesis\")\n"
      ]
    }
  ],
  "metadata": {
    "accelerator": "GPU",
    "colab": {
      "collapsed_sections": [],
      "name": "Chapter 9: Hypothesis testing.ipynb",
      "provenance": []
    },
    "kernelspec": {
      "display_name": "Python 3",
      "name": "python3"
    }
  },
  "nbformat": 4,
  "nbformat_minor": 0
}
